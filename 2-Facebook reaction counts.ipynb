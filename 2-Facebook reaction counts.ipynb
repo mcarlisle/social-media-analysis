{
 "cells": [
  {
   "cell_type": "markdown",
   "metadata": {},
   "source": [
    "Next, we'll examine some of what Facebook has on us.\n",
    "\n",
    "Download your Facebook data by following these directions: https://www.facebook.com/help/1701730696756992/?helpref=hc_fnav\n",
    "\n",
    "Quickly: \n",
    "1. \"Settings\" --> \"Your Facebook Information\" --> \"Download Your Information\" --> \"View\".\n",
    "2. Download as JSON. \n",
    "3. \"Create File\"."
   ]
  },
  {
   "cell_type": "markdown",
   "metadata": {},
   "source": [
    "Once you have the data, decompress it (it will likely be large, especially if you downloaded photos). "
   ]
  },
  {
   "cell_type": "code",
   "execution_count": null,
   "metadata": {},
   "outputs": [],
   "source": [
    "import pandas as pd\n",
    "import json\n",
    "from collections import defaultdict\n",
    "import numpy as np\n",
    "import matplotlib.pyplot as plt"
   ]
  },
  {
   "cell_type": "code",
   "execution_count": null,
   "metadata": {},
   "outputs": [],
   "source": [
    "facebook_dir = \"./facebook-YOURNAMEHERE/\""
   ]
  },
  {
   "cell_type": "markdown",
   "metadata": {},
   "source": [
    "We will examine your likes and reactions on Facebook posts."
   ]
  },
  {
   "cell_type": "code",
   "execution_count": null,
   "metadata": {},
   "outputs": [],
   "source": [
    "with open(facebook_dir + \"likes_and_reactions/pages.json\", \"r\") as f:\n",
    "    reactions_pages = json.load(f)\n",
    "with open(facebook_dir + \"likes_and_reactions/posts_and_comments.json\", \"r\") as f:\n",
    "    reactions_posts = json.load(f)"
   ]
  },
  {
   "cell_type": "markdown",
   "metadata": {},
   "source": [
    "We'll extract the reactor (you, name1) and reaction recipient (name2) from each reaction post.\n",
    "\n",
    "Note: A lot more language processing could be done here; this was a quick first pass via glancing through the data and seeing what would capture information quickly.\n",
    "\n",
    "We count up the number of each reaction you had to each different person's posts, ignoring time."
   ]
  },
  {
   "cell_type": "code",
   "execution_count": null,
   "metadata": {},
   "outputs": [],
   "source": [
    "# reaction_matrix is a dict: (k, v) = (name, dict({reaction_type: count}))\n",
    "reaction_matrix = defaultdict(lambda: defaultdict(int))\n",
    "\n",
    "verb1_set = {\"likes\", \"liked\", \"reacted to\"}\n",
    "obj_set = {\"photo\", \"post\", \"comment\"}\n",
    "# basic sentence structure: name1 + \" \" + verb1 + name2 + \"'s\" + \" \" + obj\n",
    "# + (if \"comment\": \"on \" + name3 + \"'s wall\" else: \"\") + \".\"\n",
    "\n",
    "# OR, \" a post.\"\n",
    "\n",
    "for r in reactions_posts['reactions']:\n",
    "    # First, set reaction actor as name1.\n",
    "    name1 = r['data'][0]['reaction']['actor']\n",
    "    \n",
    "    # Then, parse the title. Extract names as name1 and name2.\n",
    "    title = r['title'].replace(name1 + \" \", \"\")\n",
    "\n",
    "    # TODO regex time instead of what you have here\n",
    "#    verb1_re = r\"likes |liked |reacted to \"\n",
    "    \n",
    "    for v in verb1_set:\n",
    "        if title.startswith(v):\n",
    "            title = title.replace(v + \" \", \"\")\n",
    "            break\n",
    "    apost_loc = title.find(\"'s\") if title.find(\"'s\") > -1 else 0\n",
    "    name2 = title[:apost_loc] if apost_loc > 0 else \"NO_NAME\" # TODO FIX HACK\n",
    "    \n",
    "    # Then, add a count of that type of reaction to name2.\n",
    "    reaction_matrix[name2][r['data'][0]['reaction']['reaction']] += 1"
   ]
  },
  {
   "cell_type": "markdown",
   "metadata": {},
   "source": [
    "Then we reorganize the name2/reaction counts for ease of plotting."
   ]
  },
  {
   "cell_type": "code",
   "execution_count": null,
   "metadata": {},
   "outputs": [],
   "source": [
    "cols = ['name', 'LOVE', 'LIKE', 'SORRY', 'HAHA', 'WOW', 'ANGER']\n",
    "fb_data = []\n",
    "total = 0 # use per row\n",
    "for n, v in reaction_matrix.items():\n",
    "    row = [n]\n",
    "    for r in cols[1:]:\n",
    "        if r in v.keys():\n",
    "            row.append(v[r])\n",
    "        else:\n",
    "            row.append(0)\n",
    "    fb_data.append(row)"
   ]
  },
  {
   "cell_type": "markdown",
   "metadata": {},
   "source": [
    "Tossing all into a DataFrame will make it easier to manipulate. Get the totals of each set of reactions."
   ]
  },
  {
   "cell_type": "code",
   "execution_count": null,
   "metadata": {},
   "outputs": [],
   "source": [
    "fb_reactions_df = pd.DataFrame(data=fb_data, columns=cols)\n",
    "fb_reactions_df['total'] = fb_reactions_df[['LOVE', 'LIKE', 'SORRY', 'HAHA', 'WOW', 'ANGER']].sum(axis=1)"
   ]
  },
  {
   "cell_type": "markdown",
   "metadata": {},
   "source": [
    "We'll take the top 25 total-reaction counts for each person for visualization purposes."
   ]
  },
  {
   "cell_type": "code",
   "execution_count": null,
   "metadata": {},
   "outputs": [],
   "source": [
    "totals_df = fb_reactions_df.sort_values(by=\"total\", ascending=False).head(25)\n",
    "fb_melted_df = pd.melt(totals_df, id_vars=['name'], var_name=\"reaction\", value_name=\"count\")\n",
    "\n",
    "# stacked bar chart: \n",
    "reactions = ['LIKE', 'LOVE', 'HAHA', 'SORRY', 'WOW', 'ANGER', 'total']\n",
    "colors    = ['blue', 'red', 'yellow', 'purple', 'orange', 'brown', 'black']\n",
    "react_counts = [fb_melted_df[fb_melted_df['reaction']==reactions[i]] for i in range(len(reactions))]"
   ]
  },
  {
   "cell_type": "code",
   "execution_count": null,
   "metadata": {},
   "outputs": [],
   "source": [
    "# https://matplotlib.org/3.1.1/gallery/lines_bars_and_markers/bar_stacked.html\n",
    "\n",
    "N = 6 # num of reaction types\n",
    "ind = np.arange(len(react_counts[0]))    # the x locations for the groups\n",
    "width = 0.35       # the width of the bars: can also be len(x) sequence"
   ]
  },
  {
   "cell_type": "markdown",
   "metadata": {},
   "source": [
    "This graph will show you the top 25 people you have reacted to on Facebook, according to the posts you've kept in your records."
   ]
  },
  {
   "cell_type": "code",
   "execution_count": null,
   "metadata": {},
   "outputs": [],
   "source": [
    "%matplotlib inline\n",
    "#fig = plt.figure(figsize=(20,10))\n",
    "plt.figure(figsize=(20,10))\n",
    "p = [plt.bar(ind, react_counts[0]['count'], width)] # list of bar charts\n",
    "for i in range(1,N):\n",
    "    # sum the totals up to i to build the stacked bar chart heights\n",
    "    subtotal_array = np.array([list(react_counts[j]['count']) for j in range(i)])\n",
    "    subtotal = np.sum(subtotal_array, axis=0)\n",
    "    p.append(plt.bar(ind, list(react_counts[i]['count']), width, bottom=subtotal))\n",
    "\n",
    "plt.ylabel('reactions')\n",
    "plt.title('reactions by name and type')\n",
    "plt.xticks(ind, list(react_counts[0]['name']), rotation=-90)\n",
    "plt.yticks(np.arange(0, 500, 20))\n",
    "plt.legend((p[i][0] for i in range(N)), reactions)\n",
    "\n",
    "plt.show()"
   ]
  }
 ],
 "metadata": {
  "kernelspec": {
   "display_name": "Python 3",
   "language": "python",
   "name": "python3"
  },
  "language_info": {
   "codemirror_mode": {
    "name": "ipython",
    "version": 3
   },
   "file_extension": ".py",
   "mimetype": "text/x-python",
   "name": "python",
   "nbconvert_exporter": "python",
   "pygments_lexer": "ipython3",
   "version": "3.6.8"
  }
 },
 "nbformat": 4,
 "nbformat_minor": 4
}
