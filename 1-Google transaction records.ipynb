{
 "cells": [
  {
   "cell_type": "markdown",
   "metadata": {},
   "source": [
    "We would like to examine the data that various media companies have collected on individuals. \n",
    "\n",
    "We will start with Google, and look at one particular aspect of their data collection: it appears that Google scrapes financial transaction data (purchases and reservations) from some emails sent to gmail addresses.\n",
    "\n",
    "The code below will help you extract and examine this information for your own perusal."
   ]
  },
  {
   "cell_type": "code",
   "execution_count": 1,
   "metadata": {},
   "outputs": [],
   "source": [
    "import pandas as pd\n",
    "import glob\n",
    "import json\n",
    "import copy\n",
    "from collections import defaultdict\n",
    "from datetime import datetime"
   ]
  },
  {
   "cell_type": "markdown",
   "metadata": {},
   "source": [
    "First, we import some useful libraries, and add a function to aid in converting timestamps."
   ]
  },
  {
   "cell_type": "code",
   "execution_count": 2,
   "metadata": {},
   "outputs": [],
   "source": [
    "\"\"\"\n",
    "Input:  Unix timestamp (as string)\n",
    "Output: utcfromtimestamp of the first 10 chars of the string.\n",
    "Motivation: Google's transaction records record in microseconds. \n",
    "    We merely remove the microseconds (if they are present).\n",
    "\"\"\"\n",
    "def timestamp_sec_to_datetime(ts):\n",
    "    assert int(ts) > 0, \"must be nonnegative int\"\n",
    "    sts = str(ts)\n",
    "    return datetime.utcfromtimestamp(int(sts[:10]))"
   ]
  },
  {
   "cell_type": "markdown",
   "metadata": {},
   "source": [
    "Download your Google data by following the directions here:\n",
    "    https://support.google.com/accounts/answer/3024190?hl=en\n",
    "\n",
    "Then, decompress it (there will likely be a lot) and set purchase_dir below to the correct folder."
   ]
  },
  {
   "cell_type": "code",
   "execution_count": 3,
   "metadata": {},
   "outputs": [],
   "source": [
    "# My purchase data was in \"Takeout 2\". Yours may differ.\n",
    "purchase_dir = \"./Takeout 2/Purchases _ Reservations/\""
   ]
  },
  {
   "cell_type": "markdown",
   "metadata": {},
   "source": [
    "Each transaction is in its own json file.\n",
    "\n",
    "There are several kinds of transactions recorded, included but not limited to: \n",
    "\n",
    "    * item purchase\n",
    "    * concert ticket purchase\n",
    "    * flight reservation\n",
    "    * hotel reservation\n",
    "    * item shipped\n",
    "    \n",
    "We have not (yet) parsed through all the different types of transactions, but manage to read a fair amount of data from the overall collection.\n",
    "\n",
    "The first task is to get all transactions into a single dictionary."
   ]
  },
  {
   "cell_type": "code",
   "execution_count": 4,
   "metadata": {},
   "outputs": [],
   "source": [
    "# for each file, open the json file, and put it into a dictionary.\n",
    "json_file_list = glob.glob(purchase_dir + \"order_*.json\")\n",
    "kill_front = len(purchase_dir + \"order_\") # get to number\n",
    "kill_back  = len(\".json\") # yes, 5, but let's be consistent\n",
    "\n",
    "order_dict = {}\n",
    "\n",
    "for fn in json_file_list:\n",
    "    with open(fn, \"r\") as f:\n",
    "        order = json.load(f)\n",
    "        order_number = fn[kill_front:-kill_back]\n",
    "        order_dict[order_number] = copy.deepcopy(order)\n",
    "#        print(f\"Added order_dict[{order_number}].\")\n",
    "        # make a dict specifically to track which keys are in each "
   ]
  },
  {
   "cell_type": "markdown",
   "metadata": {},
   "source": [
    "Once this is done, we can examine the dollar amounts that Google has determined you spent on certain transactions.\n",
    "\n",
    "We'll restrict our initial examination to transactions less than $100,000 in value (I doubt this is a problem for most people) by looking for the \"priceline\" key in each transaction. \n",
    "\n",
    "To further examine these transactions, we may later look into the \"lineItem\" key."
   ]
  },
  {
   "cell_type": "code",
   "execution_count": 5,
   "metadata": {},
   "outputs": [],
   "source": [
    "# Extract the times of these transactions and their total cost.\n",
    "\n",
    "# $100,000 is way higher than any transaction that would occur here.\n",
    "# TODO remove this threshold\n",
    "threshold = 100000  \n",
    "\n",
    "time_count, total_count = 0, 0\n",
    "totals = defaultdict(float)\n",
    "summed = defaultdict(int)\n",
    "\n",
    "for k, v in order_dict.items():\n",
    "    \n",
    "# if \"creationTime\" exists in the keys, get the time.\n",
    "    order_ts = v[\"creationTime\"][\"usecSinceEpochUtc\"] if \"creationTime\" in v.keys() else 1 # eh, '1970-01-01'\n",
    "    order_date = timestamp_sec_to_datetime(order_ts).strftime('%Y-%m-%d')\n",
    "    \n",
    "# if \"priceline\" exists in the keys, get the subtotal and tax (if any).\n",
    "    if \"priceline\" in v.keys():\n",
    "        # add each one to its respective total\n",
    "        for v2 in v[\"priceline\"]:\n",
    "            # TODO remember that all the values are in microunits. We'll assume USD for now.\n",
    "            val = round(int(v2['amount']['amountMicros']) / 1000000, 2)\n",
    "            if abs(val) < threshold:\n",
    "                totals[ v2['type'] ] += val\n",
    "                summed[ v2['type'] ] += 1\n",
    "#                print(f\"{order_date}: added ${val} to {v2['type']}.\")"
   ]
  },
  {
   "cell_type": "markdown",
   "metadata": {},
   "source": [
    "Looking at the summed and totals dictionaries compiled with the above code, we can see:\n",
    "\n",
    "    * summed: total number of transactions logged by type\n",
    "    * totals: total dollar amount logged by type\n",
    "\n",
    "We can do a finer-grained analysis; this is merely a first look at what's in Google's hands about us as consumers."
   ]
  },
  {
   "cell_type": "code",
   "execution_count": 6,
   "metadata": {},
   "outputs": [
    {
     "data": {
      "text/plain": [
       "defaultdict(int,\n",
       "            {'SUBTOTAL': 390, 'TAX': 365, 'DELIVERY': 109, 'OTHER_COSTS': 86})"
      ]
     },
     "execution_count": 6,
     "metadata": {},
     "output_type": "execute_result"
    }
   ],
   "source": [
    "summed"
   ]
  },
  {
   "cell_type": "code",
   "execution_count": 7,
   "metadata": {},
   "outputs": [
    {
     "data": {
      "text/plain": [
       "defaultdict(float,\n",
       "            {'SUBTOTAL': 11471.009999999975,\n",
       "             'TAX': 727.8799999999999,\n",
       "             'DELIVERY': 292.55999999999995,\n",
       "             'OTHER_COSTS': 169.35999999999996})"
      ]
     },
     "execution_count": 7,
     "metadata": {},
     "output_type": "execute_result"
    }
   ],
   "source": [
    "totals"
   ]
  },
  {
   "cell_type": "code",
   "execution_count": null,
   "metadata": {},
   "outputs": [],
   "source": []
  }
 ],
 "metadata": {
  "kernelspec": {
   "display_name": "Python 3",
   "language": "python",
   "name": "python3"
  },
  "language_info": {
   "codemirror_mode": {
    "name": "ipython",
    "version": 3
   },
   "file_extension": ".py",
   "mimetype": "text/x-python",
   "name": "python",
   "nbconvert_exporter": "python",
   "pygments_lexer": "ipython3",
   "version": "3.6.8"
  }
 },
 "nbformat": 4,
 "nbformat_minor": 4
}
