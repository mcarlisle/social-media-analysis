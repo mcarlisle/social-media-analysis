{
 "cells": [
  {
   "cell_type": "markdown",
   "metadata": {},
   "source": [
    "Next, we'll look at Instagram. \n",
    "\n",
    "This will answer a simple question: whose posts did I like, per month, over the entirety of my Instagram presence?"
   ]
  },
  {
   "cell_type": "markdown",
   "metadata": {},
   "source": [
    "First, download your Instagram data by following the directions here: https://help.instagram.com/181231772500920"
   ]
  },
  {
   "cell_type": "code",
   "execution_count": null,
   "metadata": {},
   "outputs": [],
   "source": [
    "import json\n",
    "import pandas as pd\n",
    "import matplotlib.pyplot as plt\n",
    "from datetime import datetime"
   ]
  },
  {
   "cell_type": "code",
   "execution_count": null,
   "metadata": {},
   "outputs": [],
   "source": [
    "instagram_dir = \"./instagram-YOURNAMEHERE/\""
   ]
  },
  {
   "cell_type": "code",
   "execution_count": null,
   "metadata": {},
   "outputs": [],
   "source": [
    "with open(instagram_dir + \"likes.json\", \"r\") as f:\n",
    "    insta_likes = json.load(f)"
   ]
  },
  {
   "cell_type": "code",
   "execution_count": null,
   "metadata": {},
   "outputs": [],
   "source": [
    "# insta_likes is a dict.\n",
    "insta_likes.keys()"
   ]
  },
  {
   "cell_type": "code",
   "execution_count": null,
   "metadata": {},
   "outputs": [],
   "source": [
    "insta_media_likes_cols = ['timestamp', 'profile']\n",
    "insta_likes_df = pd.DataFrame(data=insta_likes['media_likes'], columns=insta_media_likes_cols)"
   ]
  },
  {
   "cell_type": "code",
   "execution_count": null,
   "metadata": {},
   "outputs": [],
   "source": [
    "# Turn these timestamps into actual date times to track time\n",
    "insta_likes_df['datetime'] = list(map(lambda x: datetime.strptime(x, \"%Y-%m-%dT%H:%M:%S\"), \n",
    "                                      insta_likes_df['timestamp']))"
   ]
  },
  {
   "cell_type": "code",
   "execution_count": null,
   "metadata": {},
   "outputs": [],
   "source": [
    "# Group by year, then month. TODO Multi-index instead.\n",
    "insta_likes_df['year']  = list(map(lambda x: x.year,  insta_likes_df['datetime']))\n",
    "insta_likes_df['month'] = list(map(lambda x: x.month, insta_likes_df['datetime']))"
   ]
  },
  {
   "cell_type": "code",
   "execution_count": null,
   "metadata": {},
   "outputs": [],
   "source": [
    "# Pull out the years - shouldn't be hard.\n",
    "insta_likes_mi_df = pd.DataFrame(data=insta_likes_df[['profile', 'year', 'month']], copy=True)\n",
    "insta_years = sorted(list(insta_likes_df['year'].unique()))"
   ]
  },
  {
   "cell_type": "code",
   "execution_count": null,
   "metadata": {},
   "outputs": [],
   "source": [
    "# list all profile likes for each (year,month) pair\n",
    "insta_likes_evolution = []\n",
    "for y in insta_years:\n",
    "    for m in range(1,13):\n",
    "        t = insta_likes_mi_df[(insta_likes_mi_df['year']==y)\n",
    "                              & (insta_likes_mi_df['month']==m)]['profile'].value_counts()\n",
    "        insta_likes_evolution.append((y, m, t))"
   ]
  },
  {
   "cell_type": "markdown",
   "metadata": {},
   "source": [
    "Here are some quick month-by-month graphs on Instagram likes. \n",
    "\n",
    "TODO: Make this so it's easier to track individual profiles across time, build animations, etc."
   ]
  },
  {
   "cell_type": "code",
   "execution_count": null,
   "metadata": {},
   "outputs": [],
   "source": [
    "cols = ['profile', 'likes']\n",
    "for i in range(len(insta_likes_evolution)): \n",
    "    profiles = list(insta_likes_evolution[i][2].index)\n",
    "    likes = list(insta_likes_evolution[i][2])\n",
    "    if len(profiles) > 0:\n",
    "        t = f\"Instagram likes, {insta_likes_evolution[i][1]}/{insta_likes_evolution[i][0]}\"\n",
    "        plt.figure(figsize=(20,10))\n",
    "        plt.bar(profiles, likes)\n",
    "#        sns.barplot(x=cols[0], y=cols[1], data=data_df)\n",
    "        plt.title(t)\n",
    "#        plt.xlabel(cols[0], rotation=-90)\n",
    "        plt.xticks(rotation=-90)\n",
    "        plt.ylabel(cols[1])\n",
    "        plt.yticks(list(range(1+max(likes))))\n",
    "        plt.show()"
   ]
  },
  {
   "cell_type": "code",
   "execution_count": null,
   "metadata": {},
   "outputs": [],
   "source": []
  }
 ],
 "metadata": {
  "kernelspec": {
   "display_name": "Python 3",
   "language": "python",
   "name": "python3"
  },
  "language_info": {
   "codemirror_mode": {
    "name": "ipython",
    "version": 3
   },
   "file_extension": ".py",
   "mimetype": "text/x-python",
   "name": "python",
   "nbconvert_exporter": "python",
   "pygments_lexer": "ipython3",
   "version": "3.6.8"
  }
 },
 "nbformat": 4,
 "nbformat_minor": 4
}
